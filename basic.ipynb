{
 "cells": [
  {
   "cell_type": "markdown",
   "metadata": {},
   "source": [
    "# Important and basic Functions of statistics used in data analysis:-\n",
    "\n",
    "\n",
    "1.Mean\n",
    "\n",
    "2.Median\n",
    "\n",
    "3.Mode\n",
    "\n",
    "4.Variance\n",
    "\n",
    "5.Standard deviation"
   ]
  },
  {
   "cell_type": "markdown",
   "metadata": {},
   "source": [
    "# 1. Mean"
   ]
  },
  {
   "cell_type": "code",
   "execution_count": 94,
   "metadata": {},
   "outputs": [],
   "source": [
    "#Fucntion for mean \n",
    "def mean1(list):\n",
    "    mean1=sum(list)/len(list)\n",
    "    return mean1"
   ]
  },
  {
   "cell_type": "code",
   "execution_count": 95,
   "metadata": {},
   "outputs": [
    {
     "data": {
      "text/plain": [
       "2.5"
      ]
     },
     "execution_count": 95,
     "metadata": {},
     "output_type": "execute_result"
    }
   ],
   "source": [
    "#Example\n",
    "list=[1,2,3,4]\n",
    "Mean=mean1(list)\n",
    "Mean\n"
   ]
  },
  {
   "cell_type": "markdown",
   "metadata": {},
   "source": [
    "# 2. Median\n"
   ]
  },
  {
   "cell_type": "code",
   "execution_count": 96,
   "metadata": {},
   "outputs": [],
   "source": [
    "#Function for median\n",
    "def median1(list):\n",
    "    l=len(list)\n",
    "    s=sorted(list)\n",
    "    if l % 2 == 0:\n",
    "        median1=(s[l//2]+s[l//2 - 1])/2\n",
    "    \n",
    "    else:\n",
    "        median1=s[l//2]\n",
    "            \n",
    "    return median1"
   ]
  },
  {
   "cell_type": "code",
   "execution_count": 97,
   "metadata": {},
   "outputs": [
    {
     "data": {
      "text/plain": [
       "4.5"
      ]
     },
     "execution_count": 97,
     "metadata": {},
     "output_type": "execute_result"
    }
   ],
   "source": [
    "#Exaample\n",
    "list1=[6,8,3,4,5,1]\n",
    "m=median1(list1)\n",
    "m"
   ]
  },
  {
   "cell_type": "markdown",
   "metadata": {},
   "source": [
    "# 3. Mode"
   ]
  },
  {
   "cell_type": "code",
   "execution_count": 98,
   "metadata": {},
   "outputs": [],
   "source": [
    "#function for mode\n",
    "def mode1(list):\n",
    "    s=sorted(list)\n",
    "    l1=[]\n",
    "    i = 0\n",
    "    while i < len(list) : \n",
    "        l1.append(s.count(s[i])) \n",
    "        i += 1\n",
    "        d1 = dict(zip(s, l1)) \n",
    "        d2={k for (k,v) in d1.items() if v == max(l1) } \n",
    "    print(\"Mode(s) is/are :\" + str(d2)) \n"
   ]
  },
  {
   "cell_type": "code",
   "execution_count": 99,
   "metadata": {},
   "outputs": [
    {
     "name": "stdout",
     "output_type": "stream",
     "text": [
      "Mode(s) is/are :{8, 2, 11}\n"
     ]
    }
   ],
   "source": [
    "#example\n",
    "l=[11,11,11,2,3,2,2,2,4,5,11,6,8,8,8,8]\n",
    "m=mode1(l)\n",
    "m"
   ]
  },
  {
   "cell_type": "markdown",
   "metadata": {},
   "source": [
    "# 4. Variance"
   ]
  },
  {
   "cell_type": "code",
   "execution_count": 100,
   "metadata": {},
   "outputs": [],
   "source": [
    "#function for variance\n",
    "def variance1(list):\n",
    "    m=sum(list)/len(list)\n",
    "    var= sum((i - m) ** 2 for i in list) / len(list) \n",
    "    print(\"The variance of list is : \" + str(var)) "
   ]
  },
  {
   "cell_type": "code",
   "execution_count": 101,
   "metadata": {},
   "outputs": [
    {
     "name": "stdout",
     "output_type": "stream",
     "text": [
      "The variance of list is : 0.6666666666666666\n"
     ]
    }
   ],
   "source": [
    "#example\n",
    "l=[1,2,3]\n",
    "v=variance1(l)"
   ]
  },
  {
   "cell_type": "markdown",
   "metadata": {},
   "source": [
    "# 5. Standard Deviation"
   ]
  },
  {
   "cell_type": "code",
   "execution_count": 102,
   "metadata": {},
   "outputs": [],
   "source": [
    "#function for std. dev\n",
    "def stdev1(list):\n",
    "    m=sum(list)/len(list)\n",
    "    var= sum((i - m) ** 2 for i in list) / len(list) \n",
    "    stdev=var**0.5\n",
    "    print(\"The standar deviation  of list is : \" + str(stdev)) "
   ]
  },
  {
   "cell_type": "code",
   "execution_count": 103,
   "metadata": {},
   "outputs": [
    {
     "name": "stdout",
     "output_type": "stream",
     "text": [
      "The standar deviation  of list is : 0.816496580927726\n"
     ]
    }
   ],
   "source": [
    "#example\n",
    "l=[1,2,3]\n",
    "st=stdev1(l)"
   ]
  },
 
  {
   "cell_type": "code",
   "execution_count": null,
   "metadata": {},
   "outputs": [],
   "source": []
  }
 ],
 "metadata": {
  "kernelspec": {
   "display_name": "Python 3",
   "language": "python",
   "name": "python3"
  },
  "language_info": {
   "codemirror_mode": {
    "name": "ipython",
    "version": 3
   },
   "file_extension": ".py",
   "mimetype": "text/x-python",
   "name": "python",
   "nbconvert_exporter": "python",
   "pygments_lexer": "ipython3",
   "version": "3.7.4"
  }
 },
 "nbformat": 4,
 "nbformat_minor": 2
}
